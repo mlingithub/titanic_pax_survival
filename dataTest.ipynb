{
 "cells": [
  {
   "cell_type": "markdown",
   "metadata": {},
   "source": [
    "<div style=\"text-align: right\"><a href=http://localhost:8002/tree/titanic_pax_survival/dataTest.ipynb?token=326ced1bcfe7ec6abaa3411eee9540c67cf7b8ab31eefdec target=\"_blank\">Edit</a></div>"
   ]
  }
 ],
 "metadata": {},
 "nbformat": 4,
 "nbformat_minor": 0
}
